{
 "cells": [
  {
   "cell_type": "markdown",
   "metadata": {},
   "source": [
    "https://stockant.tistory.com/category/%ED%94%84%EB%A1%9C%EA%B7%B8%EB%9E%98%EB%B0%8D/%EC%98%81%ED%99%94%20TMDB%20API"
   ]
  },
  {
   "cell_type": "code",
   "execution_count": 5,
   "metadata": {},
   "outputs": [],
   "source": [
    "import requests"
   ]
  },
  {
   "cell_type": "code",
   "execution_count": 27,
   "metadata": {},
   "outputs": [],
   "source": [
    "# TMDB API 키\n",
    "TMDB_API_KEY = \"df9a0caaf2a07ee6babd7024a6accaf8\""
   ]
  },
  {
   "cell_type": "code",
   "execution_count": 26,
   "metadata": {},
   "outputs": [
    {
     "name": "stdout",
     "output_type": "stream",
     "text": [
      "Action 28\n",
      "Adventure 12\n",
      "Animation 16\n",
      "Comedy 35\n",
      "Crime 80\n",
      "Documentary 99\n",
      "Drama 18\n",
      "Family 10751\n",
      "Fantasy 14\n",
      "History 36\n",
      "Horror 27\n",
      "Music 10402\n",
      "Mystery 9648\n",
      "Romance 10749\n",
      "Science Fiction 878\n",
      "TV Movie 10770\n",
      "Thriller 53\n",
      "War 10752\n",
      "Western 37\n"
     ]
    }
   ],
   "source": [
    "url = f\"https://api.themoviedb.org/3/genre/movie/list?api_key={TMDB_API_KEY}\"\n",
    "\n",
    "response = requests.get(url)\n",
    "data = response.json()\n",
    "genres = data.get(\"genres\", [])\n",
    "\n",
    "GENRES = {}\n",
    "for genre in genres:\n",
    "    GENRES[genre['name']] = genre['id']\n",
    "    \n",
    "    print(genre['name'], GENRES[genre['name']])"
   ]
  },
  {
   "cell_type": "code",
   "execution_count": 28,
   "metadata": {},
   "outputs": [],
   "source": [
    "EMOTION_TO_GENRE = {\n",
    "    '기쁨': 35,  # Comedy\n",
    "    '슬픔': 18,  # Drama\n",
    "    '분노': 53,  # Thriller\n",
    "    '불안': 27,  # Horror\n",
    "    '상처': 80,  # Crime\n",
    "    '당황': 28,  # Action\n",
    "    '중립': 10751,  # Family\n",
    "}"
   ]
  },
  {
   "cell_type": "code",
   "execution_count": 19,
   "metadata": {},
   "outputs": [],
   "source": [
    "def get_recommendations(emotion, result_num=10, api_key=TMDB_API_KEY):\n",
    "    # 감정 매핑 확인\n",
    "    genre_id = EMOTION_TO_GENRE.get(emotion)\n",
    "    if not genre_id:\n",
    "        return f\"'{emotion}'에 해당하는 추천 장르가 없습니다. 감정을 다시 입력해주세요.\"\n",
    "\n",
    "    # TMDB Discover API 호출\n",
    "    url = f\"https://api.themoviedb.org/3/discover/movie\"\n",
    "    params = {\n",
    "        \"api_key\": api_key,\n",
    "        \"with_genres\": genre_id,\n",
    "        \"sort_by\": \"popularity.desc\",  # 인기 순으로 정렬\n",
    "        \"language\": \"ko-KR\",          # 한국어 결과\n",
    "        \"vote_average.gte\": 7.0,      # 평점 7 이상\n",
    "    }\n",
    "\n",
    "    response = requests.get(url, params=params)\n",
    "    if response.status_code != 200:\n",
    "        return f\"TMDB API 호출 실패: {response.status_code}\"\n",
    "\n",
    "    data = response.json()\n",
    "    results = data.get(\"results\", [])\n",
    "\n",
    "    if not results:\n",
    "        return f\"'{emotion}'에 맞는 추천 콘텐츠를 찾을 수 없습니다.\"\n",
    "\n",
    "    # 추천 콘텐츠 추출\n",
    "    recommendations = []\n",
    "    for movie in results[:result_num]:  # 상위 10개만 추출\n",
    "        recommendations.append({\n",
    "            \"title\": movie.get(\"title\"),\n",
    "            \"overview\": movie.get(\"overview\"),\n",
    "            \"vote_average\": movie.get(\"vote_average\"),\n",
    "            \"release_date\": movie.get(\"release_date\"),\n",
    "        })\n",
    "\n",
    "    return recommendations"
   ]
  },
  {
   "cell_type": "code",
   "execution_count": 30,
   "metadata": {},
   "outputs": [
    {
     "name": "stdout",
     "output_type": "stream",
     "text": [
      "'당황'에 맞는 추천 콘텐츠:\n",
      "\n",
      "1. 제목: 수퍼 소닉 3\n",
      "   개봉일: 2024-12-19\n",
      "   평점: 7.7\n",
      "   줄거리: 너클즈, 테일즈와 함께 평화로운 일상을 보내던 초특급 히어로 소닉. 연구 시설에 50년간 잠들어 있던 사상 최강의 비밀 병기 \"섀도우\"가 탈주하자, 세계 수호 통합 부대(약칭 세.수.통)에 의해 극비 소집된다. 소중한 것을 잃은 분노와 복수심에 불타는 섀도우는 소닉의 초고속 스피드와 너클즈의 최강 펀치를 단 단숨에 제압해버린다. 세상을 지배하려는 닥터 로보트닉과 그의 할아버지 제럴드 박사는 섀도우의 엄청난 힘 카오스 에너지를 이용해 인류를 정복하려고 하는데…\n",
      "\n",
      "2. 제목: 레드 원\n",
      "   개봉일: 2024-10-31\n",
      "   평점: 7.041\n",
      "   줄거리: 크리스마스 D-1, 철통같은 보안을 뚫고 코드명 '레드 원' 산타클로스가 납치되고 크리스마스가 사라질 위기에 처했다! '레드 원'을 찾기 위해 사령관 '칼럼 드리프트'는 산타클로스 따위는 없다고 믿는 현상금 사냥꾼 '잭 오말리'와 협력하기로 한다. 시작부터 삐그덕 거리는 이들 앞에 크리스마스의 존재를 위협하는 위험천만한 적들이 나타나는데…\n",
      "\n",
      "3. 제목: 서브스턴스\n",
      "   개봉일: 2024-09-07\n",
      "   평점: 7.2\n",
      "   줄거리: 더 나은 버전의 당신을 꿈꿔본 적 있나요? 당신의 인생을 바꿔줄 신제품 ‘서브스턴스’. ‘서브스턴스’는 또 다른 당신을 만들어냅니다. 새롭고, 젊고, 더 아름답고, 더 완벽한 당신을. 단 한가지 규칙, 당신의 시간을 공유하면 됩니다. 당신을 위한 일주일, 새로운 당신을 위한 일주일, 각각 7일간의 완벽한 밸런스. 쉽죠? 균형을 존중한다면… 무엇이 잘못될 수 있을까요?\n"
     ]
    }
   ],
   "source": [
    "user_emotion = input(\"현재 감정을 입력하세요 (기쁨, 슬픔, 분노, 불안, 상처, 당황, 중립): \")\n",
    "recommendations = get_recommendations(user_emotion, 3)\n",
    "\n",
    "if isinstance(recommendations, str):\n",
    "    print(recommendations)  # 에러 메시지 출력\n",
    "else:\n",
    "    print(f\"'{user_emotion}'에 맞는 추천 콘텐츠:\")\n",
    "    for idx, movie in enumerate(recommendations, 1):\n",
    "        print(f\"\\n{idx}. 제목: {movie['title']}\")\n",
    "        print(f\"   개봉일: {movie['release_date']}\")\n",
    "        print(f\"   평점: {movie['vote_average']}\")\n",
    "        print(f\"   줄거리: {movie['overview']}\")"
   ]
  }
 ],
 "metadata": {
  "kernelspec": {
   "display_name": "recommend_content",
   "language": "python",
   "name": "python3"
  },
  "language_info": {
   "codemirror_mode": {
    "name": "ipython",
    "version": 3
   },
   "file_extension": ".py",
   "mimetype": "text/x-python",
   "name": "python",
   "nbconvert_exporter": "python",
   "pygments_lexer": "ipython3",
   "version": "3.12.8"
  }
 },
 "nbformat": 4,
 "nbformat_minor": 2
}
